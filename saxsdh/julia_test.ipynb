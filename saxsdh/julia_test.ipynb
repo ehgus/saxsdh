{
 "cells": [
  {
   "cell_type": "code",
   "execution_count": 2,
   "metadata": {},
   "outputs": [
    {
     "output_type": "error",
     "ename": "LoadError",
     "evalue": "could not open file /home/ubundo/saxs_edf_handler.jl",
     "traceback": [
      "could not open file /home/ubundo/saxs_edf_handler.jl",
      "",
      "Stacktrace:",
      " [1] include(::String) at ./client.jl:457",
      " [2] top-level scope at In[2]:1",
      " [3] include_string(::Function, ::Module, ::String, ::String) at ./loading.jl:1091"
     ]
    }
   ],
   "source": [
    "include(\"/home/ubundo/Desktop/saxsdh/saxsdh/saxs_edf_handler.jl\")"
   ]
  },
  {
   "cell_type": "code",
   "execution_count": null,
   "metadata": {},
   "outputs": [],
   "source": [
    "rst=load_edf(\"/home/ubundo/Desktop/saxsdh/example_data/mapping_0_00001.edf\")\n",
    "edf_plot(rst)"
   ]
  }
 ],
 "metadata": {
  "kernelspec": {
   "display_name": "Julia 1.5.1",
   "language": "julia",
   "name": "julia-1.5"
  },
  "language_info": {
   "file_extension": ".jl",
   "mimetype": "application/julia",
   "name": "julia",
   "version": "3.8.3-final"
  }
 },
 "nbformat": 4,
 "nbformat_minor": 4
}